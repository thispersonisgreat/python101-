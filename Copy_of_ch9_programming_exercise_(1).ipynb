{
  "nbformat": 4,
  "nbformat_minor": 0,
  "metadata": {
    "colab": {
      "provenance": [],
      "include_colab_link": true
    },
    "kernelspec": {
      "name": "python3",
      "display_name": "Python 3"
    },
    "language_info": {
      "name": "python"
    }
  },
  "cells": [
    {
      "cell_type": "markdown",
      "metadata": {
        "id": "view-in-github",
        "colab_type": "text"
      },
      "source": [
        "<a href=\"https://colab.research.google.com/github/thispersonisgreat/python101-/blob/main/Copy_of_ch9_programming_exercise_(1).ipynb\" target=\"_parent\"><img src=\"https://colab.research.google.com/assets/colab-badge.svg\" alt=\"Open In Colab\"/></a>"
      ]
    },
    {
      "cell_type": "markdown",
      "source": [
        "# Chapter 9: Sets and Dictionaries (Programming Exercises)"
      ],
      "metadata": {
        "id": "6IP5gn17Jlyz"
      }
    },
    {
      "cell_type": "code",
      "source": [
        "from typing_extensions import NewType\n",
        "#@title 6.File Analysis\n",
        "\n",
        "'''\n",
        "Write a program that reads the contents of two text files and prints the following lists:\n",
        "\n",
        "1. All the unique words contained in both files.\n",
        "2. The words that appear in both files.\n",
        "3. The words that appear in the first file but not the second.\n",
        "4. The words that appear in the second file but not the first.\n",
        "5.The words that appear in either the first or second file, but not both.\n",
        "\n",
        "Hint: Use set operations to perform these analyses.\n",
        "'''\n",
        "\n",
        "# File 1 contents\n",
        "\n",
        "# ant\n",
        "# boy cat dog elephant \n",
        "# fox\n",
        "# fish\n",
        "\n",
        "# File 2 contents\n",
        "\n",
        "# ant\n",
        "# boy cat elephant \n",
        "# fox\n",
        "# zebra\n",
        "# newt\n",
        "\n",
        "\n",
        "file1 = open(\"File 1.txt\", \"r\")\n",
        "data = file1.read()\n",
        "file1List = data.split(\"\\n\")\n",
        "\n",
        "\n",
        "file2 = open(\"File 2.txt\", \"r\")\n",
        "data = file2.read()\n",
        "file2List = data.split(\"\\n\")\n",
        "\n",
        "print(\"file 1 items:\")\n",
        "print(file1List)\n",
        "print(\"file 2 items:\")\n",
        "print(file2List)\n",
        "\n",
        "combined = file1List + file2List\n",
        "\n",
        "print(\"all unique words:\")\n",
        "uniquewords = set(combined)\n",
        "\n",
        "print(uniquewords)\n",
        "\n",
        "bothWords = []\n",
        "\n",
        "for word in uniquewords:\n",
        "  if word in file1List and word in file2List:\n",
        "    bothWords.append(word)\n",
        "        \n",
        "\n",
        "\n",
        "print(\"Words that are in both files\")\n",
        "print(bothWords)\n",
        "\n",
        "\n",
        "file1Only = []\n",
        "\n",
        "for word in file1List:\n",
        "  if word in file1List and not word in file2List:\n",
        "    file1Only.append(word)\n",
        "\n",
        "print(\"words only in file 1\")\n",
        "print(file1Only)\n",
        "\n",
        "\n",
        "file2Only = []\n",
        "\n",
        "for word in file2List:\n",
        "  if word in file2List and not word in file1List:\n",
        "    file2Only.append(word)\n",
        "\n",
        "print(\"words only in file 2\")\n",
        "print(file2Only)\n",
        "\n",
        "\n",
        "var = file2Only + file1Only\n",
        "print(\"Words that appear in either the first or second file, but not both:\")\n",
        "print(var)"
      ],
      "metadata": {
        "id": "kmOINiwuC2TJ",
        "colab": {
          "base_uri": "https://localhost:8080/"
        },
        "outputId": "58d61e5a-cf5b-411e-ef19-56abd07fc02f"
      },
      "execution_count": 39,
      "outputs": [
        {
          "output_type": "stream",
          "name": "stdout",
          "text": [
            "file 1 items:\n",
            "['ant', 'boy cat dog elephant', 'fox', 'fish']\n",
            "file 2 items:\n",
            "['ant', 'boy cat elephant', 'fox', 'zebra', 'newt']\n",
            "all unique words:\n",
            "{'fish', 'boy cat dog elephant', 'zebra', 'boy cat elephant', 'ant', 'newt', 'fox'}\n",
            "Words that are in both files\n",
            "['ant', 'fox']\n",
            "words only in file 1\n",
            "['boy cat dog elephant', 'fish']\n",
            "words only in file 2\n",
            "['boy cat elephant', 'zebra', 'newt']\n",
            "Words that appear in either the first or second file, but not both:\n",
            "['boy cat elephant', 'zebra', 'newt', 'boy cat dog elephant', 'fish']\n"
          ]
        }
      ]
    }
  ]
}