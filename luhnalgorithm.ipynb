{
  "nbformat": 4,
  "nbformat_minor": 0,
  "metadata": {
    "colab": {
      "provenance": [],
      "authorship_tag": "ABX9TyNrdvk4qvUI7MKvOLrTbnDm",
      "include_colab_link": true
    },
    "kernelspec": {
      "name": "python3",
      "display_name": "Python 3"
    },
    "language_info": {
      "name": "python"
    }
  },
  "cells": [
    {
      "cell_type": "markdown",
      "metadata": {
        "id": "view-in-github",
        "colab_type": "text"
      },
      "source": [
        "<a href=\"https://colab.research.google.com/github/thispersonisgreat/python101-/blob/main/luhnalgorithm.ipynb\" target=\"_parent\"><img src=\"https://colab.research.google.com/assets/colab-badge.svg\" alt=\"Open In Colab\"/></a>"
      ]
    },
    {
      "cell_type": "code",
      "execution_count": 10,
      "metadata": {
        "id": "XJ5K1sqN8Hdg",
        "colab": {
          "base_uri": "https://localhost:8080/"
        },
        "outputId": "f2e72091-c395-42f7-8581-ac49057aaf18"
      },
      "outputs": [
        {
          "output_type": "stream",
          "name": "stdout",
          "text": [
            "is_credit('6011000000000004') True\n",
            "is_credit('79927398713') True\n",
            "is_credit('30000000000004') True\n",
            "is_credit('6911600873502604') False\n",
            "is_credit('1234567890') False\n",
            "-----------------------------\n",
            "is_visa('6011000000000004') False\n",
            "is_visa('79927398713') False\n",
            "is_visa('30000000000004') False\n",
            "is_visa('6911600873502604') False\n",
            "is_visa('1234567890') False\n",
            "-----------------------------\n",
            "is_mastercard('6011000000000004') False\n",
            "is_mastercard('79927398713') False\n",
            "is_mastercard('30000000000004') False\n",
            "is_mastercard('6911600873502604') False\n",
            "is_mastercard('1234567890') False\n"
          ]
        }
      ],
      "source": [
        "def is_visa(num):\n",
        "  num = int(num)\n",
        "  while num >= 10:\n",
        "    num = num // 10\n",
        "  if num == 4:\n",
        "    return True\n",
        "  else:\n",
        "    return False\n",
        "\n",
        "\n",
        "def is_mastercard(num):\n",
        "  num = int(num)\n",
        "  while num >= 10:\n",
        "    num = num // 10\n",
        "  if num == 4:\n",
        "    return True\n",
        "  else:\n",
        "    return False\n",
        "\n",
        "\n",
        "def is_credit(card):\n",
        "#variables\n",
        "    Second = False #every second number\n",
        "    Sum = 0 #uses this for end addition\n",
        "    Digits = len(card) #digits of card \n",
        "\n",
        "    #reapeting\n",
        "    for i in range(Digits - 1, -1, -1):\n",
        "\n",
        "        c = ord(card[i]) - ord('0')\n",
        "     \n",
        "        if (Second == True):\n",
        "            c = c * 2 #first part where it doubles every other number\n",
        "  \n",
        "        Sum += c // 10. \n",
        "        Sum += c % 10\n",
        "\n",
        "  \n",
        "        Second = not Second\n",
        "\n",
        "     #to check if divisible\n",
        "    if (Sum % 10 == 0):\n",
        "        return True\n",
        "    else:\n",
        "        return False\n",
        "\n",
        "\n",
        "\n",
        "\n",
        "def main():\n",
        "  print(\"is_credit('6011000000000004')\", is_credit(\"6011000000000004\"))\n",
        "  print(\"is_credit('79927398713')\", is_credit(\"79927398713\"))\n",
        "  print(\"is_credit('30000000000004')\" ,is_credit(\"30000000000004\"))\n",
        "  print(\"is_credit('6911600873502604')\"  ,is_credit(\"6911600873502604\"))\n",
        "  print(\"is_credit('1234567890')\",  is_credit(\"1234567890\"))\n",
        "  print(\"-----------------------------\")\n",
        "  print(\"is_visa('6011000000000004')\",is_visa(\"6011000000000004\"))\n",
        "  print(\"is_visa('79927398713')\", is_visa(\"79927398713\"))\n",
        "  print(\"is_visa('30000000000004')\" ,is_visa(\"30000000000004\"))\n",
        "  print(\"is_visa('6911600873502604')\"  ,is_visa(\"6911600873502604\"))\n",
        "  print(\"is_visa('1234567890')\",  is_visa(\"1234567890\"))\n",
        "  print(\"-----------------------------\")\n",
        "  print(\"is_mastercard('6011000000000004')\",is_mastercard(\"6011000000000004\"))\n",
        "  print(\"is_mastercard('79927398713')\", is_mastercard(\"79927398713\"))\n",
        "  print(\"is_mastercard('30000000000004')\" ,is_mastercard(\"30000000000004\"))\n",
        "  print(\"is_mastercard('6911600873502604')\"  ,is_mastercard(\"6911600873502604\"))\n",
        "  print(\"is_mastercard('1234567890')\",  is_mastercard(\"1234567890\"))\n",
        "# call the main function\n",
        "main()"
      ]
    }
  ]
}