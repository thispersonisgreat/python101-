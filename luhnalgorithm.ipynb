{
  "nbformat": 4,
  "nbformat_minor": 0,
  "metadata": {
    "colab": {
      "provenance": [],
      "authorship_tag": "ABX9TyP3HJYiE24KLnn2inxyaBeQ",
      "include_colab_link": true
    },
    "kernelspec": {
      "name": "python3",
      "display_name": "Python 3"
    },
    "language_info": {
      "name": "python"
    }
  },
  "cells": [
    {
      "cell_type": "markdown",
      "metadata": {
        "id": "view-in-github",
        "colab_type": "text"
      },
      "source": [
        "<a href=\"https://colab.research.google.com/github/thispersonisgreat/python101-/blob/main/luhnalgorithm.ipynb\" target=\"_parent\"><img src=\"https://colab.research.google.com/assets/colab-badge.svg\" alt=\"Open In Colab\"/></a>"
      ]
    },
    {
      "cell_type": "code",
      "execution_count": null,
      "metadata": {
        "id": "XJ5K1sqN8Hdg",
        "colab": {
          "base_uri": "https://localhost:8080/"
        },
        "outputId": "e4592374-a7d8-477e-fb9d-138302c142da"
      },
      "outputs": [
        {
          "output_type": "execute_result",
          "data": {
            "text/plain": [
              "False"
            ]
          },
          "metadata": {},
          "execution_count": 27
        }
      ],
      "source": [
        "def Luhn(card):\n",
        "\n",
        "    Second = False\n",
        "    Sum = 0\n",
        "    Digits = len(card)\n",
        " \n",
        "\n",
        "     \n",
        "    for i in range(Digits - 1, -1, -1):\n",
        "\n",
        "\n",
        "\n",
        "        c = ord(card[i]) - ord('0')\n",
        "     \n",
        "        if (Second == True):\n",
        "            c = c * 2\n",
        "  \n",
        "        Sum += c // 10\n",
        "        Sum += c % 10\n",
        "\n",
        "  \n",
        "        Second = not Second\n",
        "\n",
        "     \n",
        "    if (Sum % 10 == 0):\n",
        "        return True\n",
        "    else:\n",
        "        return False\n",
        "\n",
        "Luhn(\"6011000000000004\") #true\n",
        "Luhn(\"79927398713\") #true\n",
        "Luhn(\"30000000000004\") #true\n",
        "Luhn(\"6911600873502604\") #false\n",
        "Luhn(\"1234567890\") #false"
      ]
    }
  ]
}