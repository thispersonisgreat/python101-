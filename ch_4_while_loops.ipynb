{
  "nbformat": 4,
  "nbformat_minor": 0,
  "metadata": {
    "colab": {
      "provenance": []
    },
    "kernelspec": {
      "name": "python3",
      "display_name": "Python 3"
    },
    "language_info": {
      "name": "python"
    }
  },
  "cells": [
    {
      "cell_type": "markdown",
      "source": [
        "<h2>Bug Collector<h2>"
      ],
      "metadata": {
        "id": "ilbFgJFRPllo"
      }
    },
    {
      "cell_type": "code",
      "source": [],
      "metadata": {
        "id": "j346BfLXFos-"
      },
      "execution_count": null,
      "outputs": []
    },
    {
      "cell_type": "code",
      "execution_count": null,
      "metadata": {
        "id": "hCU5Z-0DD5Ao",
        "colab": {
          "base_uri": "https://localhost:8080/"
        },
        "outputId": "61261d2a-577b-44c4-b707-61ead1882c3b"
      },
      "outputs": [
        {
          "output_type": "stream",
          "name": "stdout",
          "text": [
            "5\n",
            "4\n",
            "3\n",
            "2\n",
            "1\n",
            "Take Off!\n",
            "0\n"
          ]
        }
      ],
      "source": [
        "n = 5\n",
        "\n",
        "while (n > 0):\n",
        "  print(n)\n",
        "  n = n-1\n",
        "  print(\"Take Off!\")\n",
        "  print(n)"
      ]
    },
    {
      "cell_type": "code",
      "source": [
        "# Complete the following exercises on pages 269 and 270 of the textbook:\n",
        "# 1. Budget Analysis\n",
        "# 2. Distance Traveled\n",
        "# 3. Celsius to Fahrenheit Table\n",
        "\n",
        "\n",
        "count = 1\n",
        "main = 32\n",
        "n = 1\n",
        "n = main+n\n",
        "\n",
        "a = input(\"how many times do you want to list?: \")\n",
        "\n",
        "print(\"1 celsius: \")\n",
        "while (int(a) > count) :\n",
        "\n",
        "\n",
        "    print(n)\n",
        "\n",
        "    count = count+1\n",
        "    n = count\n",
        "    n = count+main\n",
        "    print(str(count)+\" celsius: \")\n",
        "\n",
        "print(n)\n",
        "print(\"---------\")\n",
        "print(\"count is: \")\n",
        "print(count)\n",
        "\n",
        "\n",
        "print(\"Distance Traveled\")\n",
        "d = input(\"distance: \")\n",
        "s = input(\"speed: \")\n",
        "\n",
        "count = 0\n",
        "n = 1\n",
        "\n",
        "\n",
        "while (5 > count):\n",
        "\n",
        "\n",
        "    print(n)\n",
        "\n",
        "    count = count+1\n",
        "    n = count\n",
        "    n = count*int(d)*int(s)\n",
        "\n",
        "print(n)\n",
        "print(\"---------\")\n",
        "print(\"count is: \")\n",
        "print(count)\n",
        "\n",
        "print(\"budget calc\")\n",
        "b = input(\"budget\")\n",
        "\n",
        "n = 1\n",
        "result = b\n",
        "while (n > 0) :\n",
        "    loss = input(\"expense\")\n",
        "    profit = input(\"profit\")\n",
        "\n",
        "    print(n)\n",
        "\n",
        "    n = n-1\n",
        "    result = int(result)-int(loss)+int(profit)\n",
        "    \n",
        "if  int(result) < int(b):\n",
        "    print(\"you are good\")\n",
        "elif int(result) > int(b):\n",
        "    print(\"you are over budget\")"
      ],
      "metadata": {
        "id": "KzNdUjaN_zwf"
      },
      "execution_count": null,
      "outputs": []
    },
    {
      "cell_type": "code",
      "source": [
        "day_count = 5\n",
        "total_bugs = 0\n",
        "\n",
        "while (day_count < 5):\n",
        "  input(\"enter the number of bugs collected on : \" + day_count)\n",
        "  bug_count = total_bugs + bug_count"
      ],
      "metadata": {
        "id": "ih7dpJFGKxjQ"
      },
      "execution_count": null,
      "outputs": []
    },
    {
      "cell_type": "code",
      "source": [
        "# final version\n",
        "\n",
        "day_count = 1\n",
        "total_bugs = 0\n",
        "\n",
        "while (day_count < 5):\n",
        "  print(\"Day Number\", day_count)\n",
        "  bug_count = input(\"enter the number of bugs you collected on day \" + str(day_count) + \":\")\n",
        "  bug_count = int(bug_count)\n",
        "  total_bugs = total_bugs + bug_count\n",
        "  day_count = day_count + 1\n",
        "  \n",
        "  \n",
        "print(\"Total number of bugs: \", total_bugs)"
      ],
      "metadata": {
        "id": "9Gq3Roz5PGg6"
      },
      "execution_count": null,
      "outputs": []
    },
    {
      "cell_type": "markdown",
      "source": [
        "<h2>Calorie Counter<h2>"
      ],
      "metadata": {
        "id": "or3AL-VuP1a1"
      }
    },
    {
      "cell_type": "code",
      "source": [
        "calperminute = 4.2\n",
        "startingmin = 10\n",
        "\n",
        "# setup for the loop\n",
        "while (startingmin < 31)\n",
        "    calloriesburned = startingmin * calperminute  \n",
        "    print(\"Number of calories burned after \", startingmin, \"minutes: \")"
      ],
      "metadata": {
        "id": "L-R3UqS_P6yb"
      },
      "execution_count": null,
      "outputs": []
    }
  ]
}