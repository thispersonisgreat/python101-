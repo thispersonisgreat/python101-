{
  "nbformat": 4,
  "nbformat_minor": 0,
  "metadata": {
    "colab": {
      "provenance": [],
      "authorship_tag": "ABX9TyMXn9ZmRbNOvOVBsNAs4PRJ",
      "include_colab_link": true
    },
    "kernelspec": {
      "name": "python3",
      "display_name": "Python 3"
    },
    "language_info": {
      "name": "python"
    }
  },
  "cells": [
    {
      "cell_type": "markdown",
      "metadata": {
        "id": "view-in-github",
        "colab_type": "text"
      },
      "source": [
        "<a href=\"https://colab.research.google.com/github/thispersonisgreat/python101-/blob/main/GetHighestandLowestDictionary.ipynb\" target=\"_parent\"><img src=\"https://colab.research.google.com/assets/colab-badge.svg\" alt=\"Open In Colab\"/></a>"
      ]
    },
    {
      "cell_type": "markdown",
      "source": [],
      "metadata": {
        "id": "AZmUy6Rf3041"
      }
    },
    {
      "cell_type": "code",
      "execution_count": null,
      "metadata": {
        "id": "UGQu4n4P3vs9"
      },
      "outputs": [],
      "source": [
        "#@title get_highest_and_lowest_prices_per_year_dictionary()\n",
        "\n",
        "year_dict = year_prices_dictionary.keys()\n",
        "# print(year_dict)\n",
        "\n",
        "def get_highest_and_lowest_prices_per_year_dictionary():\n",
        "  print('Year\\t\\tHighest Price\\t\\tLowest Price')\n",
        "\n",
        "  #for year in range(1993, 2014):\n",
        "  for key_elem in year_prices_dictionary.keys():\n",
        "    year = key_elem\n",
        "\n",
        "    # print(year)  \n",
        "    price_elem = year_prices_dictionary.get(year)\n",
        "    # print(price_elem)\n",
        "    \n",
        "    highest_price = max(price_elem)\n",
        "    # print(highest_price)\n",
        "\n",
        "    lowest_price = min(price_elem)\n",
        "    # print(lowest_price)\n",
        "\n",
        "    print(year, '\\t\\t', highest_price, '\\t\\t\\t', lowest_price)\n",
        "\n",
        "get_highest_and_lowest_prices_per_year_dictionary()    "
      ]
    }
  ]
}