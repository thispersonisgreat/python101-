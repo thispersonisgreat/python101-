{
  "nbformat": 4,
  "nbformat_minor": 0,
  "metadata": {
    "colab": {
      "provenance": [],
      "authorship_tag": "ABX9TyP9TnBspoIujMxDCy0lGEOn",
      "include_colab_link": true
    },
    "kernelspec": {
      "name": "python3",
      "display_name": "Python 3"
    },
    "language_info": {
      "name": "python"
    }
  },
  "cells": [
    {
      "cell_type": "markdown",
      "metadata": {
        "id": "view-in-github",
        "colab_type": "text"
      },
      "source": [
        "<a href=\"https://colab.research.google.com/github/thispersonisgreat/python101-/blob/main/Initaials.ipynb\" target=\"_parent\"><img src=\"https://colab.research.google.com/assets/colab-badge.svg\" alt=\"Open In Colab\"/></a>"
      ]
    },
    {
      "cell_type": "code",
      "execution_count": 23,
      "metadata": {
        "colab": {
          "base_uri": "https://localhost:8080/"
        },
        "id": "BMC38dVFPqh0",
        "outputId": "ce3ce27b-d8e6-40e7-d47a-d31c69592e15"
      },
      "outputs": [
        {
          "output_type": "stream",
          "name": "stdout",
          "text": [
            "enter your name:\n",
            "['John', 'Smith', 'William']\n",
            "J\n",
            "S\n",
            "W\n"
          ]
        }
      ],
      "source": [
        "print(\"enter your name:\")\n",
        "input = \"John Smith William\"\n",
        "\n",
        "str1 = input.split()\n",
        "print(str1)\n",
        "print(str1[0][0])\n",
        "print(str1[1][0])\n",
        "print(str1[2][0])"
      ]
    }
  ]
}