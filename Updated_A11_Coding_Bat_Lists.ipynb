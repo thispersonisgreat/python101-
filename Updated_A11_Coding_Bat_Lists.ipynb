{
  "nbformat": 4,
  "nbformat_minor": 0,
  "metadata": {
    "colab": {
      "provenance": [],
      "toc_visible": true,
      "include_colab_link": true
    },
    "kernelspec": {
      "name": "python3",
      "display_name": "Python 3"
    },
    "language_info": {
      "name": "python"
    }
  },
  "cells": [
    {
      "cell_type": "markdown",
      "metadata": {
        "id": "view-in-github",
        "colab_type": "text"
      },
      "source": [
        "<a href=\"https://colab.research.google.com/github/thispersonisgreat/python101-/blob/main/Updated_A11_Coding_Bat_Lists.ipynb\" target=\"_parent\"><img src=\"https://colab.research.google.com/assets/colab-badge.svg\" alt=\"Open In Colab\"/></a>"
      ]
    },
    {
      "cell_type": "markdown",
      "source": [
        "# Python 101: Python Programming with Dr. Jasthi\n",
        "Assignment 11 (Coding Bat: List Problems)\n",
        "\n",
        "Instructions:\n",
        "\n",
        "1. Click on the link given in each problem.\n",
        "2. Solve the problem at codingbat.com\n",
        "3. Ensure that all the test cases are passing there.\n",
        "4. Copy the final code into the google colab notebook\n",
        "5. Each problem is worth 1 point and there are 10 problems.\n",
        "6. You can also attempt (sum13) problem for an extra credit of 5 points\n"
      ],
      "metadata": {
        "id": "cQy_GF2mcHR8"
      }
    },
    {
      "cell_type": "code",
      "source": [
        "#@title 0. Middle Elements (Example) ( https://codingbat.com/prob/p171011)\n",
        "# Instructor will solve and show this problem to show the process\n",
        "\n",
        "def middle_way(a, b):\n",
        "  m_a = a[1]\n",
        "  m_b = b[1]\n",
        "  new_list = [m_a, m_b]\n",
        "  return new_list\n",
        "\n",
        "# Testing\n",
        "print(middle_way([1, 2, 3], [4, 5, 6])) # → [2, 5]\n",
        "print(middle_way([7, 7, 7], [3, 8, 0])) # → [7, 8]\n",
        "print(middle_way([5, 2, 9], [1, 4, 5])) # → [2, 4]\n",
        "\n",
        "\n",
        "#coding bat\n",
        "def middle_way(a, b):\n",
        "  return [a[1], b[1]]\n",
        "  \n",
        "a = middle_way([1, 2, 3], [4, 5, 6]) #→ [2, 5]\n",
        "b = middle_way([7, 7, 7], [3, 8, 0]) #→ [7, 8]\n",
        "c = middle_way([5, 2, 9], [1, 4, 5]) #→ [2, 4]\n",
        "\n"
      ],
      "metadata": {
        "id": "EL1SvMAGh5UN",
        "colab": {
          "base_uri": "https://localhost:8080/"
        },
        "outputId": "941489d5-f74d-44aa-82b7-c48d01621e24"
      },
      "execution_count": 1,
      "outputs": [
        {
          "output_type": "stream",
          "name": "stdout",
          "text": [
            "[2, 5]\n",
            "[7, 8]\n",
            "[2, 4]\n"
          ]
        }
      ]
    },
    {
      "cell_type": "code",
      "source": [
        "#@title 1. Common End  ( https://codingbat.com/prob/p147755 )\n",
        "# Solve the problem and paste the code here\n",
        "\n",
        "def common_end(a, b):\n",
        "  if a[0] == b[0]:\n",
        "    return True\n",
        "  elif a[len(a) - 1] == b[len(b) - 1]:\n",
        "    return True\n",
        "  else:\n",
        "    return False\n",
        "  # return a[0] == b[0] or a[len(a) - 1] == b[len(b) - 1]\n",
        "\n",
        "# Testing\n",
        "\n",
        "# True\n",
        "print(common_end([1, 2, 3], [7, 3])) \n",
        "\n",
        "# False\n",
        "print(common_end([1, 2, 3], [7, 3, 2])) \n",
        "\n",
        "# True\n",
        "print(common_end([1, 2, 3], [1, 3])) "
      ],
      "metadata": {
        "id": "41L2HdFXd8nF",
        "outputId": "fbe8d399-e97d-4f19-98d8-a2cc3589f301",
        "colab": {
          "base_uri": "https://localhost:8080/"
        }
      },
      "execution_count": 2,
      "outputs": [
        {
          "output_type": "stream",
          "name": "stdout",
          "text": [
            "True\n",
            "False\n",
            "True\n"
          ]
        }
      ]
    },
    {
      "cell_type": "code",
      "source": [
        "#@title 2. Sum 3  ( https://codingbat.com/prob/p191645 )\n",
        "# Solve the problem and paste the code here\n",
        "\n",
        "def sum3(n):\n",
        "  return int(n[0]) + int(n[1]) + int(n[2]) + 0\n",
        "\n",
        "\n",
        "# Testing\n",
        "\n",
        "# 6\n",
        "print(sum3([1, 2, 3])) \n",
        "\n",
        "# 18\n",
        "print(sum3([5, 11, 2])) \n",
        "\n",
        "# 7\n",
        "print(sum3([7, 0, 0])) "
      ],
      "metadata": {
        "id": "TkagmaBXcsQx",
        "outputId": "524af0c2-584e-432f-f6cb-86f678a42749",
        "colab": {
          "base_uri": "https://localhost:8080/"
        }
      },
      "execution_count": 3,
      "outputs": [
        {
          "output_type": "stream",
          "name": "stdout",
          "text": [
            "6\n",
            "18\n",
            "7\n"
          ]
        }
      ]
    },
    {
      "cell_type": "code",
      "source": [
        "#@title 3. rotate_left3  ( https://codingbat.com/prob/p148661 )\n",
        "# Solve the problem and paste the code here\n",
        "def rotate_left3(n):\n",
        "  m = n[0] #m = memory\n",
        "  n[0] = n[1]\n",
        "  n[1] = n[2]\n",
        "  n[2] = m\n",
        "  return n\n",
        "\n",
        "# Testing\n",
        "\n",
        "# [2, 3, 1]\n",
        "print(rotate_left3([1, 2, 3])) \n",
        "\n",
        "# [11, 9, 5]\n",
        "print(rotate_left3([5, 11, 9]))\n",
        "\n",
        "# [0, 0, 7]\n",
        "print(rotate_left3([7, 0, 0])) "
      ],
      "metadata": {
        "id": "ZeqsHP7BeNJv",
        "outputId": "45d085fd-d0de-4845-d309-3a8f08af0c39",
        "colab": {
          "base_uri": "https://localhost:8080/"
        }
      },
      "execution_count": 5,
      "outputs": [
        {
          "output_type": "stream",
          "name": "stdout",
          "text": [
            "[2, 3, 1]\n",
            "[11, 9, 5]\n",
            "[0, 0, 7]\n"
          ]
        }
      ]
    },
    {
      "cell_type": "code",
      "source": [
        "#@title 4. reverse 3  ( https://codingbat.com/prob/p192962 )\n",
        "# Solve the problem and paste the code here\n",
        "\n",
        "def reverse3(n):\n",
        "  m = n[0] #m = memory\n",
        "  n[0] = n[2]\n",
        "  n[2] = m\n",
        "  return n\n",
        "\n",
        "\n",
        "\n",
        "# Testing\n",
        "\n",
        "# [3, 2, 1]\n",
        "print(reverse3([1, 2, 3]))\n",
        "\n",
        "# [9, 11, 5]\n",
        "print(reverse3([5, 11, 9]))\n",
        "\n",
        "# [0, 0, 7]\n",
        "print(reverse3([7, 0, 0]))"
      ],
      "metadata": {
        "id": "1hBNOuw0ebIv",
        "outputId": "38bee73d-b450-46e1-bd2f-a46591a9d67e",
        "colab": {
          "base_uri": "https://localhost:8080/"
        }
      },
      "execution_count": 6,
      "outputs": [
        {
          "output_type": "stream",
          "name": "stdout",
          "text": [
            "[3, 2, 1]\n",
            "[9, 11, 5]\n",
            "[0, 0, 7]\n"
          ]
        }
      ]
    },
    {
      "cell_type": "code",
      "source": [
        "#@title 5. max_end3  ( https://codingbat.com/prob/p135290 )\n",
        "# Solve the problem and paste the code here\n",
        "\n",
        "def max_end3(n):\n",
        "  if n[0] > n[2]:\n",
        "    return [n[0],n[0],n[0]]\n",
        "  else:\n",
        "    return [n[2],n[2],n[2]]\n",
        "\n",
        "# Testing\n",
        "\n",
        "# [3, 3, 3]\n",
        "print(max_end3([1, 2, 3]))\n",
        "\n",
        "# [11, 11, 11]\n",
        "print(max_end3([11, 5, 9]))\n",
        "\n",
        "# [3, 3, 3]\n",
        "print(max_end3([2, 11, 3]))"
      ],
      "metadata": {
        "id": "OUIoWGQQewbA",
        "outputId": "a1712a64-a0ab-49af-8858-637d2008dc4d",
        "colab": {
          "base_uri": "https://localhost:8080/"
        }
      },
      "execution_count": 8,
      "outputs": [
        {
          "output_type": "stream",
          "name": "stdout",
          "text": [
            "[3, 3, 3]\n",
            "[11, 11, 11]\n",
            "[3, 3, 3]\n"
          ]
        }
      ]
    },
    {
      "cell_type": "code",
      "source": [
        "#@title 6. sum2  ( https://codingbat.com/prob/p192589 )\n",
        "# Solve the problem and paste the code here\n",
        "\n",
        "def sum2(n):\n",
        "  if len(n) == 0:\n",
        "    return 0\n",
        "  elif len(n) < 2:\n",
        "    return n[0] + 0\n",
        "  else:\n",
        "    return n[0] + n[1]\n",
        "\n",
        "\n",
        "# Testing\n",
        "\n",
        "# 3\n",
        "print(sum2([1, 2, 3]))\n",
        "\n",
        "# 2\n",
        "print(sum2([1, 1]))\n",
        "\n",
        "# 2\n",
        "print(sum2([1, 1, 1, 1]))"
      ],
      "metadata": {
        "id": "X2mtj_voewmC",
        "outputId": "1675929d-ae9a-4e6c-c884-a0bde78a138d",
        "colab": {
          "base_uri": "https://localhost:8080/"
        }
      },
      "execution_count": 9,
      "outputs": [
        {
          "output_type": "stream",
          "name": "stdout",
          "text": [
            "3\n",
            "2\n",
            "2\n"
          ]
        }
      ]
    },
    {
      "cell_type": "code",
      "source": [
        "#@title 7. make ends  ( https://codingbat.com/prob/p124806 )\n",
        "# Solve the problem and paste the code here\n",
        "\n",
        "\n",
        "def make_ends(n):\n",
        "  return [n[0], n[len(n) - 1]]\n",
        "\n",
        "# Testing\n",
        "\n",
        "# [1, 3]\n",
        "print(make_ends([1, 2, 3]))\n",
        "\n",
        "# [1, 4]\n",
        "print(make_ends([1, 2, 3, 4]))\n",
        "\n",
        "# [7, 2]\n",
        "print(make_ends([7, 4, 6, 2]))"
      ],
      "metadata": {
        "id": "GfgyB0Opewzm",
        "outputId": "603da19c-3377-42c2-fbb9-b256fbbeba7f",
        "colab": {
          "base_uri": "https://localhost:8080/"
        }
      },
      "execution_count": 10,
      "outputs": [
        {
          "output_type": "stream",
          "name": "stdout",
          "text": [
            "[1, 3]\n",
            "[1, 4]\n",
            "[7, 2]\n"
          ]
        }
      ]
    },
    {
      "cell_type": "code",
      "source": [
        "#@title 8. Big Difference  ( https://codingbat.com/prob/p184853 )\n",
        "# Solve the problem and paste the code here\n",
        "\n",
        "def big_diff(n):\n",
        "  g = n[0]\n",
        "  l = n[0]\n",
        "  \n",
        "  for i in n: \n",
        "    if i > g: #checking \n",
        "      g = i   #setting greatest\n",
        "    elif i < l:#checking\n",
        "      l = i    #setting least\n",
        "  return g - l # final answer\n",
        "\n",
        "\n",
        "# Testing\n",
        "\n",
        "# 7\n",
        "print(big_diff([10, 3, 5, 6]))\n",
        "\n",
        "# 8\n",
        "print(big_diff([7, 2, 10, 9]))\n",
        "\n",
        "# 8\n",
        "print(big_diff([2, 10, 7, 2]))"
      ],
      "metadata": {
        "id": "91SlUdjFcwUx",
        "outputId": "3d196956-13b4-4aa4-d61a-dfca284961d7",
        "colab": {
          "base_uri": "https://localhost:8080/"
        }
      },
      "execution_count": 11,
      "outputs": [
        {
          "output_type": "stream",
          "name": "stdout",
          "text": [
            "7\n",
            "8\n",
            "8\n"
          ]
        }
      ]
    },
    {
      "cell_type": "code",
      "source": [
        "#@title 9. Centered Average  ( https://codingbat.com/prob/p126968 )\n",
        "# Solve the problem and paste the code here\n",
        "\n",
        "def centered_average(n):\n",
        "  sum = 0\n",
        "  l = n[0] #largest\n",
        "  s = n[0] #smallest\n",
        "  \n",
        "  for i in range(0, len(n), 1):\n",
        "    sum = sum + n[i]\n",
        "    l = max(l,n[i])\n",
        "    s = min(s,n[i])\n",
        "    \n",
        "  return (sum - l - s) / (len(n) - 2)\n",
        "\n",
        "\n",
        "\n",
        "# Testing\n",
        "\n",
        "# 3\n",
        "print(centered_average([1, 2, 3, 4, 100]))\n",
        "\n",
        "# 5\n",
        "print(centered_average([1, 1, 5, 5, 10, 8, 7]))\n",
        "\n",
        "# -3\n",
        "print(centered_average([-10, -4, -2, -4, -2, 0]))"
      ],
      "metadata": {
        "id": "uhSosg_xc9s8",
        "outputId": "7cfe7f52-ee95-48d4-c5f5-d75d94b843d3",
        "colab": {
          "base_uri": "https://localhost:8080/"
        }
      },
      "execution_count": 12,
      "outputs": [
        {
          "output_type": "stream",
          "name": "stdout",
          "text": [
            "3.0\n",
            "5.2\n",
            "-3.0\n"
          ]
        }
      ]
    },
    {
      "cell_type": "code",
      "source": [
        "#@title 10. Has 22  ( https://codingbat.com/prob/p119308 )\n",
        "# Solve the problem and paste the code here\n",
        "def has22(n):\n",
        "  # m = 0\n",
        "  # for i in range(0, len(n) - 2):\n",
        "  #   if n[1] == 2 and n[i + 1] == 2:\n",
        "  #     return True\n",
        "  #     break\n",
        "    \n",
        "    \n",
        "  # return False\n",
        "  for i in range(len(n)-1):\n",
        "    if n[i]==2 and n[i+1]==2:\n",
        "          return True\n",
        "  return False\n",
        "\n",
        "# Testing\n",
        "\n",
        "# True\n",
        "print(has22([1, 2, 2]))\n",
        "\n",
        "# False\n",
        "print(has22([1, 2, 1, 2]))\n",
        "\n",
        "# False\n",
        "print(has22([2, 1, 2]))"
      ],
      "metadata": {
        "id": "pH59bElYdcYv",
        "outputId": "b41da860-b1eb-4228-f765-f778d7e78a12",
        "colab": {
          "base_uri": "https://localhost:8080/"
        }
      },
      "execution_count": 14,
      "outputs": [
        {
          "output_type": "stream",
          "name": "stdout",
          "text": [
            "True\n",
            "False\n",
            "False\n"
          ]
        }
      ]
    },
    {
      "cell_type": "markdown",
      "source": [
        "# Extra Credit (5 Points)\n",
        "### Solve this problem 11 only after you solved all the above 10 basic problems"
      ],
      "metadata": {
        "id": "ATKAUuJrfpiB"
      }
    },
    {
      "cell_type": "code",
      "source": [
        "#@title 11. Sum 13 problem  ( https://codingbat.com/prob/p167025 )\n",
        "# Solve the problem and paste the code here\n",
        "def sum13(n):\n",
        "  sum = 0\n",
        "  i = 0\n",
        "  \n",
        "  while (i < len(n)):\n",
        "    \n",
        "    if (n[i] != 13):\n",
        "      sum = sum + n[i]\n",
        "    else:\n",
        "      i = i + 1\n",
        "      \n",
        "    i = i + 1\n",
        "      \n",
        "  return sum\n",
        "\n",
        "# Testing\n",
        "\n",
        "# 6\n",
        "print(sum13([1, 2, 2, 1]))\n",
        "\n",
        "# 2\n",
        "print(sum13([1, 1]))\n",
        "\n",
        "# 6\n",
        "print(sum13([1, 2, 2, 1, 13]))"
      ],
      "metadata": {
        "id": "7AiLZTMSdJQ-",
        "outputId": "fd6f4df0-aa33-4669-a284-a7aa599d656e",
        "colab": {
          "base_uri": "https://localhost:8080/"
        }
      },
      "execution_count": 15,
      "outputs": [
        {
          "output_type": "stream",
          "name": "stdout",
          "text": [
            "6\n",
            "2\n",
            "6\n"
          ]
        }
      ]
    }
  ]
}