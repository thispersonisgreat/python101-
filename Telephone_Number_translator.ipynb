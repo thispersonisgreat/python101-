{
  "nbformat": 4,
  "nbformat_minor": 0,
  "metadata": {
    "colab": {
      "provenance": [],
      "authorship_tag": "ABX9TyPS4ux52iEVs1SB6NFl7jSg",
      "include_colab_link": true
    },
    "kernelspec": {
      "name": "python3",
      "display_name": "Python 3"
    },
    "language_info": {
      "name": "python"
    }
  },
  "cells": [
    {
      "cell_type": "markdown",
      "metadata": {
        "id": "view-in-github",
        "colab_type": "text"
      },
      "source": [
        "<a href=\"https://colab.research.google.com/github/thispersonisgreat/python101-/blob/main/Telephone_Number_translator.ipynb\" target=\"_parent\"><img src=\"https://colab.research.google.com/assets/colab-badge.svg\" alt=\"Open In Colab\"/></a>"
      ]
    },
    {
      "cell_type": "code",
      "execution_count": null,
      "metadata": {
        "colab": {
          "base_uri": "https://localhost:8080/"
        },
        "id": "a5laWJXIvzY-",
        "outputId": "61635672-6f5f-4959-f78c-24bef6a2c3b5"
      },
      "outputs": [
        {
          "output_type": "stream",
          "name": "stdout",
          "text": [
            "enter phone number with dashes\n",
            "555-GET-FOOD\n",
            "555-438-3663\n"
          ]
        }
      ],
      "source": [
        "print(\"enter phone number with dashes\")\n",
        "\n",
        "Number = input()\n",
        "\n",
        "newNumber = \"\"\n",
        "\n",
        "for char in Number:\n",
        "\n",
        "   if char == 'A' or char == 'B' or char == 'C':\n",
        "\n",
        "       char = '2'\n",
        "\n",
        "   elif char == 'D' or char == 'E' or char == 'F':\n",
        "\n",
        "       char = '3'\n",
        "\n",
        "   elif char == 'G' or char == 'H' or char == 'I':\n",
        "\n",
        "       char = '4'\n",
        "\n",
        "   elif char == 'J' or char == 'K' or char == 'L':\n",
        "\n",
        "       char = '5'\n",
        "\n",
        "   elif char == 'M' or char == 'N' or char == 'O':\n",
        "\n",
        "       char = '6'\n",
        "\n",
        "   elif char == 'P' or char == 'Q' or char == 'R' or char == 'S':\n",
        "\n",
        "       char = '7'\n",
        "\n",
        "   elif char == 'T' or char == 'U' or char == 'V':\n",
        "\n",
        "       char = '8'\n",
        "\n",
        "   elif char == 'W' or char == 'X' or char == 'Y' or char == 'Z':\n",
        "\n",
        "       char = '9'\n",
        "\n",
        "       \n",
        "\n",
        "   newNumber = newNumber + char\n",
        "\n",
        "print(newNumber)\n"
      ]
    }
  ]
}