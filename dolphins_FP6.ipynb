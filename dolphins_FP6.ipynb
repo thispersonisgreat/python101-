{
  "nbformat": 4,
  "nbformat_minor": 0,
  "metadata": {
    "colab": {
      "provenance": [],
      "authorship_tag": "ABX9TyNaaaG7mJ74I8HUMKKgyLNe",
      "include_colab_link": true
    },
    "kernelspec": {
      "name": "python3",
      "display_name": "Python 3"
    },
    "language_info": {
      "name": "python"
    }
  },
  "cells": [
    {
      "cell_type": "markdown",
      "metadata": {
        "id": "view-in-github",
        "colab_type": "text"
      },
      "source": [
        "<a href=\"https://colab.research.google.com/github/thispersonisgreat/python101-/blob/main/dolphins_FP6.ipynb\" target=\"_parent\"><img src=\"https://colab.research.google.com/assets/colab-badge.svg\" alt=\"Open In Colab\"/></a>"
      ]
    },
    {
      "cell_type": "code",
      "execution_count": 14,
      "metadata": {
        "colab": {
          "base_uri": "https://localhost:8080/",
          "height": 758
        },
        "id": "W3WnazS8U-qk",
        "outputId": "cb1a875c-878e-43e3-9ef9-142d7b900367"
      },
      "outputs": [
        {
          "output_type": "stream",
          "name": "stdout",
          "text": [
            "Menu:\n",
            "\n",
            "===========================================================\n",
            "\n",
            "1. Reading the Gasprices (textfile)\n",
            "2. Get Average Price per Year\n",
            "3  Get Average Price per Year - Dictionary\n",
            "4. Get Average Price per Month\n",
            "5. Get Average Price per Month - Dictionary\n",
            "6. Get Highest and Lowest Prices per Year \n",
            "7. Get Highest and Lowest Prices per Year - Dictionary\n",
            "8. Generate list of Prices - Lowest to Highest  \n",
            "9. Generate list of Prices - Highest to Lowest\n",
            "10. Create a Price Range Coloumn \n",
            "11. Get Price Binning Frequency\n",
            "12. Get Missing Dates Report\n",
            "13. Runtime Summary\n",
            "14. About \n",
            "15. Quit\n",
            "\n",
            "===========================================================\n",
            "\n",
            "Chose a option between 1 and 15:6\n",
            "6\n"
          ]
        },
        {
          "output_type": "error",
          "ename": "NameError",
          "evalue": "ignored",
          "traceback": [
            "\u001b[0;31m---------------------------------------------------------------------------\u001b[0m",
            "\u001b[0;31mNameError\u001b[0m                                 Traceback (most recent call last)",
            "\u001b[0;32m<ipython-input-14-95dae4de3606>\u001b[0m in \u001b[0;36m<cell line: 79>\u001b[0;34m()\u001b[0m\n\u001b[1;32m     77\u001b[0m     \u001b[0mprint\u001b[0m\u001b[0;34m(\u001b[0m\u001b[0;34m\"quited\"\u001b[0m\u001b[0;34m)\u001b[0m\u001b[0;34m\u001b[0m\u001b[0;34m\u001b[0m\u001b[0m\n\u001b[1;32m     78\u001b[0m \u001b[0;34m\u001b[0m\u001b[0m\n\u001b[0;32m---> 79\u001b[0;31m \u001b[0mmenuSelect\u001b[0m\u001b[0;34m(\u001b[0m\u001b[0mSelectedOption\u001b[0m\u001b[0;34m)\u001b[0m\u001b[0;34m\u001b[0m\u001b[0;34m\u001b[0m\u001b[0m\n\u001b[0m",
            "\u001b[0;32m<ipython-input-14-95dae4de3606>\u001b[0m in \u001b[0;36mmenuSelect\u001b[0;34m(SelectedOption)\u001b[0m\n\u001b[1;32m     47\u001b[0m   \u001b[0;32melif\u001b[0m \u001b[0mSelectedOption\u001b[0m \u001b[0;34m==\u001b[0m \u001b[0;36m6\u001b[0m\u001b[0;34m:\u001b[0m\u001b[0;34m\u001b[0m\u001b[0;34m\u001b[0m\u001b[0m\n\u001b[1;32m     48\u001b[0m     \u001b[0mprint\u001b[0m\u001b[0;34m(\u001b[0m\u001b[0mSelectedOption\u001b[0m\u001b[0;34m)\u001b[0m\u001b[0;34m\u001b[0m\u001b[0;34m\u001b[0m\u001b[0m\n\u001b[0;32m---> 49\u001b[0;31m     \u001b[0mget_highest_and_lowest_prices_per_year\u001b[0m\u001b[0;34m(\u001b[0m\u001b[0;34m)\u001b[0m\u001b[0;34m\u001b[0m\u001b[0;34m\u001b[0m\u001b[0m\n\u001b[0m\u001b[1;32m     50\u001b[0m \u001b[0;34m\u001b[0m\u001b[0m\n\u001b[1;32m     51\u001b[0m   \u001b[0;32melif\u001b[0m \u001b[0mSelectedOption\u001b[0m \u001b[0;34m==\u001b[0m \u001b[0;36m7\u001b[0m\u001b[0;34m:\u001b[0m\u001b[0;34m\u001b[0m\u001b[0;34m\u001b[0m\u001b[0m\n",
            "\u001b[0;31mNameError\u001b[0m: name 'get_highest_and_lowest_prices_per_year' is not defined"
          ]
        }
      ],
      "source": [
        "#@title Ahala's version - FP#6\n",
        "\n",
        "# Giving the user the menu/options that are present in our Gasprices_Project and asking him to choose one\n",
        "menuOptions = \"\"\"\n",
        "===========================================================\n",
        "\n",
        "1. Reading the Gasprices (textfile)\n",
        "2. Get Average Price per Year\n",
        "3  Get Average Price per Year - Dictionary\n",
        "4. Get Average Price per Month\n",
        "5. Get Average Price per Month - Dictionary\n",
        "6. Get Highest and Lowest Prices per Year \n",
        "7. Get Highest and Lowest Prices per Year - Dictionary\n",
        "8. Generate list of Prices - Lowest to Highest  \n",
        "9. Generate list of Prices - Highest to Lowest\n",
        "10. Create a Price Range Coloumn \n",
        "11. Get Price Binning Frequency\n",
        "12. Get Missing Dates Report\n",
        "13. Runtime Summary\n",
        "14. About \n",
        "15. Quit\n",
        "\n",
        "===========================================================\n",
        "\"\"\"\n",
        "print(\"Menu:\")\n",
        "print(menuOptions)\n",
        "SelectedOption = input(\"Chose a option between 1 and 15:\")\n",
        "SelectedOption=int(SelectedOption)\n",
        "\n",
        "def menuSelect(SelectedOption):\n",
        "\n",
        "  if SelectedOption == 1:\n",
        "    return read_gas_prices()                                                            \n",
        "\n",
        "  elif SelectedOption == 2:\n",
        "    return get_average_price_per_year()                                              \n",
        "\n",
        "  elif SelectedOption == 3:\n",
        "    return get_average_prices_per_year_dictionary()\n",
        "\n",
        "  elif SelectedOption == 4:\n",
        "    return get_average_price_per_month()\n",
        "\n",
        "  elif SelectedOption == 5:\n",
        "    return get_average_prices_per_month_dictionary()\n",
        "\n",
        "  elif SelectedOption == 6:\n",
        "    print(SelectedOption)\n",
        "    return get_highest_and_lowest_prices_per_year()\n",
        "\n",
        "  elif SelectedOption == 7:\n",
        "    return get_highest_and_lowest_prices_per_year_dictionary()\n",
        "\n",
        "  elif SelectedOption == 8:\n",
        "    return generate_list_of_prices_lowest_to_highest()\n",
        "\n",
        "  elif SelectedOption == 9:\n",
        "    return generate_list_of_prices_highest_to_lowest() \n",
        "\n",
        "  elif SelectedOption == 10:\n",
        "    return create_price_range_coloumn()\n",
        "\n",
        "  elif SelectedOption == 11:\n",
        "    return get_price_binning_frequency()   \n",
        "\n",
        "  elif SelectedOption == 12:\n",
        "    return get_missing_dates_report()\n",
        "\n",
        "  elif SelectedOption == 13:\n",
        "    return print_runtime_summary() \n",
        "\n",
        "  elif SelectedOption == 14:\n",
        "    return about()\n",
        "  else:\n",
        "    print(SelectedOption)\n",
        "    print(\"-------\")\n",
        "    print(\"quited\")\n",
        "\n",
        "menuSelect(SelectedOption)\n"
      ]
    },
    {
      "cell_type": "code",
      "source": [],
      "metadata": {
        "id": "bww6PdO2Wo4I"
      },
      "execution_count": null,
      "outputs": []
    }
  ]
}