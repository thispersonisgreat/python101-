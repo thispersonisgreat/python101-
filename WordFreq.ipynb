{
  "nbformat": 4,
  "nbformat_minor": 0,
  "metadata": {
    "colab": {
      "provenance": [],
      "authorship_tag": "ABX9TyP6E1sE1wASD1QsTBWlsGew",
      "include_colab_link": true
    },
    "kernelspec": {
      "name": "python3",
      "display_name": "Python 3"
    },
    "language_info": {
      "name": "python"
    }
  },
  "cells": [
    {
      "cell_type": "markdown",
      "metadata": {
        "id": "view-in-github",
        "colab_type": "text"
      },
      "source": [
        "<a href=\"https://colab.research.google.com/github/thispersonisgreat/python101-/blob/main/WordFreq.ipynb\" target=\"_parent\"><img src=\"https://colab.research.google.com/assets/colab-badge.svg\" alt=\"Open In Colab\"/></a>"
      ]
    },
    {
      "cell_type": "code",
      "execution_count": 31,
      "metadata": {
        "colab": {
          "base_uri": "https://localhost:8080/"
        },
        "id": "xaBpSSZXpV06",
        "outputId": "846c3f50-ead1-4e3f-e0e5-0996d4473efb"
      },
      "outputs": [
        {
          "output_type": "stream",
          "name": "stdout",
          "text": [
            "zebra : 3\n",
            "snake : 3\n",
            "bat : 3\n",
            "ant : 3\n"
          ]
        }
      ],
      "source": [
        "#------\n",
        "#File:\n",
        "# Zebra\n",
        "# Snake\n",
        "# Bat\n",
        "# Zebra\n",
        "# Bat\n",
        "# Bat\n",
        "# Ant\n",
        "# Zebra\n",
        "# Ant\n",
        "# Ant\n",
        "# Snake\n",
        "# Snake\n",
        "#-------\n",
        "\n",
        "# There is 3 of each animal\n",
        "\n",
        "d = dict()\n",
        "#create dictonary and open file\n",
        "CountWords = open(\"WordFrequencyTable.txt\", \"r\")\n",
        "#loop for finding words\n",
        "for line in CountWords:\n",
        "\tline = line.strip()\n",
        "\tline = line.lower()\n",
        " #spliting words\n",
        "\twordscount = line.split(\" \")\n",
        "\tfor word in wordscount:\n",
        "\t\tif word in d:\n",
        "      #adding to count when finding word\n",
        "\t\t\td[word] = d[word] + 1\n",
        "\t\telse:\n",
        "      #making the word in dictionary\n",
        "\t\t\td[word] = 1\n",
        "for key in list(d.keys()):\n",
        "  #printing all word counts\n",
        "\tprint(key, \":\", d[key])"
      ]
    }
  ]
}