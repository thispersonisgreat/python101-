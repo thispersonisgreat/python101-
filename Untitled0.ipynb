{
  "nbformat": 4,
  "nbformat_minor": 0,
  "metadata": {
    "colab": {
      "provenance": [],
      "authorship_tag": "ABX9TyOGWMoEaYjyD7dkrJ4GRAZq",
      "include_colab_link": true
    },
    "kernelspec": {
      "name": "python3",
      "display_name": "Python 3"
    },
    "language_info": {
      "name": "python"
    }
  },
  "cells": [
    {
      "cell_type": "markdown",
      "metadata": {
        "id": "view-in-github",
        "colab_type": "text"
      },
      "source": [
        "<a href=\"https://colab.research.google.com/github/thispersonisgreat/python101-/blob/main/Untitled0.ipynb\" target=\"_parent\"><img src=\"https://colab.research.google.com/assets/colab-badge.svg\" alt=\"Open In Colab\"/></a>"
      ]
    },
    {
      "cell_type": "code",
      "execution_count": 24,
      "metadata": {
        "colab": {
          "base_uri": "https://localhost:8080/"
        },
        "id": "2IamV6re3dJR",
        "outputId": "712257a6-ab11-433f-9bfe-27291c91f700"
      },
      "outputs": [
        {
          "output_type": "stream",
          "name": "stdout",
          "text": [
            "enter girl name\n",
            "cc\n",
            "enter boy name\n",
            "dd\n",
            "None Found\n"
          ]
        }
      ],
      "source": [
        "print(\"enter girl name\")\n",
        "girl_name = input()\n",
        "print(\"enter boy name\")\n",
        "boy_name = input() \n",
        "#------------------------inputs^\n",
        "\n",
        "with open(\"BoyNames.txt\",encoding='utf-8-sig') as file:\n",
        "    boyList = [line.rstrip() for line in file]\n",
        "\n",
        "with open(\"GirlNames.txt\",encoding='utf-8-sig') as file:\n",
        "    girlList = [line.rstrip() for line in file]\n",
        "\n",
        "if boy_name.strip() in boyList and girl_name.strip() in girlList:\n",
        "  print(boy_name, \" and \",girl_name, \" was found\")\n",
        "elif boy_name.strip() in boyList:\n",
        "  print(boy_name, \" was found\")\n",
        "elif girl_name.strip() in girlList:\n",
        "  print(girl_name, \" was founds\")\n",
        "else:\n",
        "  print(\"None Found\")\n",
        "    \n"
      ]
    }
  ]
}