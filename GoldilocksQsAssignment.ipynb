{
  "nbformat": 4,
  "nbformat_minor": 0,
  "metadata": {
    "colab": {
      "provenance": [],
      "authorship_tag": "ABX9TyNZJFerC704Emn1au2MJ6GI",
      "include_colab_link": true
    },
    "kernelspec": {
      "name": "python3",
      "display_name": "Python 3"
    },
    "language_info": {
      "name": "python"
    }
  },
  "cells": [
    {
      "cell_type": "markdown",
      "metadata": {
        "id": "view-in-github",
        "colab_type": "text"
      },
      "source": [
        "<a href=\"https://colab.research.google.com/github/thispersonisgreat/python101-/blob/main/GoldilocksQsAssignment.ipynb\" target=\"_parent\"><img src=\"https://colab.research.google.com/assets/colab-badge.svg\" alt=\"Open In Colab\"/></a>"
      ]
    },
    {
      "cell_type": "code",
      "execution_count": 38,
      "metadata": {
        "colab": {
          "base_uri": "https://localhost:8080/"
        },
        "id": "xtm2fAnSHqTM",
        "outputId": "af7f4cd2-9cf1-435c-b2c7-ed0a5116c9d5"
      },
      "outputs": [
        {
          "output_type": "stream",
          "name": "stdout",
          "text": [
            "Word:/ Mama /Amount of it: 3\n",
            "Word:/ Papa /Amount of it: 3\n"
          ]
        }
      ],
      "source": [
        "text = open(\"goldilocks.txt\", \"r\")\n",
        "\n",
        "word = \"Mama\"\n",
        "count = 0\n",
        "with open(\"goldilocks.txt\", \"r\") as text:\n",
        "\tfor line in text:\n",
        "\t\twords = line.split()\n",
        "\t\tfor i in words:\n",
        "\t\t\tif(i==word):\n",
        "\t\t\t\tcount=count+1\n",
        "print(\"Word:/\", word, \"/Amount of it:\", count)\n",
        "\n",
        "\n",
        "word = \"Papa\"\n",
        "count = 0\n",
        "with open(\"goldilocks.txt\", \"r\") as text:\n",
        "\tfor line in text:\n",
        "\t\twords = line.split()\n",
        "\t\tfor i in words:\n",
        "\t\t\tif(i==word):\n",
        "\t\t\t\tcount=count+1\n",
        "print(\"Word:/\", word, \"/Amount of it:\", count)"
      ]
    }
  ]
}